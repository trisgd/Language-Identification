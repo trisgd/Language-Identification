{
  "nbformat": 4,
  "nbformat_minor": 0,
  "metadata": {
    "colab": {
      "name": "Language Identification _MultiNB.ipynb",
      "provenance": [],
      "collapsed_sections": []
    },
    "kernelspec": {
      "name": "python3",
      "display_name": "Python 3"
    }
  },
  "cells": [
    {
      "cell_type": "code",
      "metadata": {
        "colab": {
          "base_uri": "https://localhost:8080/"
        },
        "id": "VZGFnYli9KEh",
        "outputId": "1f6d1b99-24f9-4332-ab1f-395590d584e7"
      },
      "source": [
        "from google.colab import drive\n",
        "\n",
        "drive.mount('/content/gdrive')\n"
      ],
      "execution_count": null,
      "outputs": [
        {
          "output_type": "stream",
          "text": [
            "Mounted at /content/gdrive\n"
          ],
          "name": "stdout"
        }
      ]
    },
    {
      "cell_type": "markdown",
      "metadata": {
        "id": "ejOHQxvK_CP6"
      },
      "source": [
        "#Using Multinomial Naive Bayes \n",
        "\n",
        "\n",
        "*   Trained on 8 languages\n",
        "*   Before running download the sentences.csv from https://downloads.tatoeba.org/exports/\n",
        "\n"
      ]
    },
    {
      "cell_type": "code",
      "metadata": {
        "id": "MPXxSDGx9Lu5"
      },
      "source": [
        "#Importing the dataset\n",
        "import pandas as pd\n",
        "\n",
        "df = pd.read_csv('/content/gdrive/My Drive/Data/sentences.csv',\n",
        "                            sep='\\t', \n",
        "                            encoding='utf8', \n",
        "                            index_col=0,\n",
        "                            names=['lang','text'])\n",
        "\n"
      ],
      "execution_count": null,
      "outputs": []
    },
    {
      "cell_type": "code",
      "metadata": {
        "id": "pWRoqBqu9Y7l"
      },
      "source": [
        "filt = [True if 40<=len(s)<=500 else False for s in df['text']]\n",
        "df = df[filt]\n",
        "\n",
        "# We will train this on only 8 languages - \n",
        "lang_filter = ['deu', 'eng', 'fra', 'ita', 'por', 'spa', 'ara', 'ben']\n",
        "\n",
        "def clean_data2(data,langlist):\n",
        "  '''\n",
        "  To filter the sentences only from lang_filter\n",
        "  '''\n",
        "  data = data.loc[data['lang'].isin(langlist)]\n",
        "  return data\n",
        "\n",
        "df_new = clean_data2(df,lang_filter)\n",
        "\n",
        "#Trimming the dataset \n",
        "n = 10000\n",
        "df_red = df_new.groupby('lang').apply(lambda x: x.sample(min(n,len(x)))).reset_index(drop=True)"
      ],
      "execution_count": null,
      "outputs": []
    },
    {
      "cell_type": "code",
      "metadata": {
        "colab": {
          "base_uri": "https://localhost:8080/"
        },
        "id": "ijq-acmh-PqE",
        "outputId": "68cbf290-8e35-44fb-872c-867733cc6726"
      },
      "source": [
        "from sklearn.pipeline import Pipeline\n",
        "from sklearn.naive_bayes import MultinomialNB\n",
        "from sklearn.metrics import confusion_matrix,classification_report\n",
        "from sklearn.feature_extraction.text import CountVectorizer\n",
        "\n",
        "\n",
        "cnt = CountVectorizer(analyzer = 'char',ngram_range=(2,2))\n",
        "\n",
        "pipeline = Pipeline([\n",
        "   ('vectorizer',cnt),  \n",
        "   ('model',MultinomialNB())\n",
        "])\n",
        "\n",
        "# Seperating into X and Y\n",
        "\n",
        "X = df_red['text']\n",
        "Y = df_red['lang']\n",
        "\n",
        "X_train, X_test, Y_train, Y_test = train_test_split(X,Y, test_size=0.30, random_state=42)\n",
        "\n",
        "pipeline.fit(X_train,Y_train)\n",
        "Y_pred = pipeline.predict(X_test)\n",
        "\n",
        "from sklearn.metrics import accuracy_score\n",
        "accuracy = accuracy_score(Y_test,Y_pred)\n",
        "print('Test Accuracy - MultinomialNB: ',accuracy)"
      ],
      "execution_count": null,
      "outputs": [
        {
          "output_type": "stream",
          "text": [
            "Test Accuracy - MultinomialNB:  0.9935311633637951\n"
          ],
          "name": "stdout"
        }
      ]
    },
    {
      "cell_type": "code",
      "metadata": {
        "colab": {
          "base_uri": "https://localhost:8080/"
        },
        "id": "eH27sMCBDdiO",
        "outputId": "cff075b6-55c6-489a-c335-2656cdbd75dd"
      },
      "source": [
        "print(classification_report(Y_test,Y_pred))"
      ],
      "execution_count": null,
      "outputs": [
        {
          "output_type": "stream",
          "text": [
            "              precision    recall  f1-score   support\n",
            "\n",
            "         ara       1.00      1.00      1.00      1390\n",
            "         ben       1.00      1.00      1.00       100\n",
            "         deu       1.00      1.00      1.00      2977\n",
            "         eng       1.00      1.00      1.00      2953\n",
            "         fra       1.00      1.00      1.00      3026\n",
            "         ita       0.99      0.99      0.99      3068\n",
            "         por       0.99      0.99      0.99      2956\n",
            "         spa       0.98      0.99      0.99      3008\n",
            "\n",
            "    accuracy                           0.99     19478\n",
            "   macro avg       0.99      0.99      0.99     19478\n",
            "weighted avg       0.99      0.99      0.99     19478\n",
            "\n"
          ],
          "name": "stdout"
        }
      ]
    },
    {
      "cell_type": "code",
      "metadata": {
        "id": "LYFvqdDPDglQ"
      },
      "source": [
        ""
      ],
      "execution_count": null,
      "outputs": []
    }
  ]
}